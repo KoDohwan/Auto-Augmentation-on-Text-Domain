{
 "cells": [
  {
   "cell_type": "code",
   "execution_count": 1,
   "metadata": {},
   "outputs": [
    {
     "name": "stderr",
     "output_type": "stream",
     "text": [
      "Using TensorFlow backend.\n"
     ]
    }
   ],
   "source": [
    "import os\n",
    "import re\n",
    "from torchtext import data\n",
    "import operator\n",
    "import nltk\n",
    "import operation\n",
    "import requests\n",
    "import itertools\n",
    "from config import *\n",
    "from methods import *\n",
    "from nltk.parse.corenlp import CoreNLPParser as CNP\n",
    "parser = CNP(url='http://localhost:9000')"
   ]
  },
  {
   "cell_type": "code",
   "execution_count": 2,
   "metadata": {},
   "outputs": [],
   "source": [
    "def traverse_tree(tree, word_path):\n",
    "    for subtree in tree:\n",
    "        if type(subtree) == nltk.tree.Tree:\n",
    "            traverse_tree(subtree, word_path + ' ' + (str(subtree).split()[0][1:]))\n",
    "        else:\n",
    "            # print(subtree, word_path)\n",
    "            path_list.append((subtree, word_path.split()))\n",
    "    \n",
    "    return path_list\n",
    "\n",
    "\n",
    "d1_set = {'NN', 'JJ', 'RB', 'VB'}\n",
    "d2_set = {'AD', 'NP', 'VP', 'PP', 'WH'}\n",
    "position_set = set()\n",
    "for i, j in itertools.product(d2_set, d1_set):\n",
    "    position_set.add(i + j)"
   ]
  },
  {
   "cell_type": "code",
   "execution_count": 3,
   "metadata": {},
   "outputs": [
    {
     "name": "stdout",
     "output_type": "stream",
     "text": [
      "0\n",
      "100\n",
      "200\n",
      "300\n",
      "353 : StopIteration\n",
      "400\n",
      "500\n",
      "600\n",
      "700\n",
      "800\n",
      "900\n",
      "1000\n",
      "1029 : pass sentence\n",
      "1100\n",
      "1200\n",
      "1300\n",
      "1400\n",
      "1500\n",
      "1600\n",
      "1700\n",
      "1800\n",
      "1900\n",
      "2000\n",
      "2100\n",
      "2200\n",
      "2300\n",
      "2400\n",
      "2500\n",
      "2600\n",
      "2700\n",
      "2800\n",
      "2900\n",
      "3000\n",
      "3100\n",
      "3200\n",
      "3300\n",
      "Done tagging!!!\n"
     ]
    }
   ],
   "source": [
    "word_path = ''\n",
    "path_list = []\n",
    "examples = []\n",
    "augment_examples = []\n",
    "\n",
    "res = open(tag_path, 'w')\n",
    "\n",
    "with open(train_path) as f:\n",
    "    for i, line in enumerate(f):\n",
    "        label = line[0]\n",
    "        text = line[2:]\n",
    "        if i % 100 == 0:\n",
    "            print(i)\n",
    "\n",
    "        path_list = []\n",
    "        try:\n",
    "            parsed_sen = next(parser.raw_parse(text))\n",
    "        except requests.exceptions.HTTPError:\n",
    "            print(str(i + 1) + ' : pass sentence')\n",
    "            continue\n",
    "        except StopIteration:\n",
    "            print(str(i + 1) + ' : StopIteration')\n",
    "            continue\n",
    "\n",
    "        path_list = traverse_tree(parsed_sen, word_path)\n",
    "    \n",
    "        tag_dict = {}\n",
    "        for p in position_set:\n",
    "            tag_dict[p] = []\n",
    "        \n",
    "        for words in path_list:\n",
    "            length = len(words[1])\n",
    "            d1 = words[1][length - 1][:2]\n",
    "            d2 = words[1][length - 2][:2]\n",
    "            position = d2 + d1\n",
    "\n",
    "            if position in position_set:\n",
    "                tag_dict[position].append(words[0])\n",
    "                \n",
    "        res.write(str((line, tag_dict)) + '\\n')\n",
    "\n",
    "res.close()\n",
    "print('Done tagging!!!')"
   ]
  }
 ],
 "metadata": {
  "kernelspec": {
   "display_name": "Python 3",
   "language": "python",
   "name": "python3"
  },
  "language_info": {
   "codemirror_mode": {
    "name": "ipython",
    "version": 3
   },
   "file_extension": ".py",
   "mimetype": "text/x-python",
   "name": "python",
   "nbconvert_exporter": "python",
   "pygments_lexer": "ipython3",
   "version": "3.7.4"
  }
 },
 "nbformat": 4,
 "nbformat_minor": 2
}
